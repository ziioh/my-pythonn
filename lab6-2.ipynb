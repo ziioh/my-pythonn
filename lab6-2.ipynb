{
 "cells": [
  {
   "cell_type": "code",
   "execution_count": 3,
   "metadata": {},
   "outputs": [],
   "source": [
    "def calculate_total_score():\n",
    "  \"\"\"ฟังก์ชันรับค่าคะแนน 5 วิชา คำนวณคะแนนรวม และแสดงผลลัพธ์\"\"\"\n",
    "  # รับค่าคะแนน 5 วิชา\n",
    "  score1 = float(input(\"ป้อนคะแนนวิชา 1: \"))\n",
    "  score2 = float(input(\"ป้อนคะแนนวิชา 2: \"))\n",
    "  score3 = float(input(\"ป้อนคะแนนวิชา 3: \"))\n",
    "  score4 = float(input(\"ป้อนคะแนนวิชา 4: \"))\n",
    "  score5 = float(input(\"ป้อนคะแนนวิชา 5: \"))\n",
    "\n",
    "  # คำนวณคะแนนรวม\n",
    "  total_score = score1 + score2 + score3 + score4 + score5\n",
    "\n",
    "  # แสดงผลลัพธ์\n",
    "  print(f\"คะแนนรวม: {total_score}\")"
   ]
  }
 ],
 "metadata": {
  "kernelspec": {
   "display_name": "Python 3",
   "language": "python",
   "name": "python3"
  },
  "language_info": {
   "codemirror_mode": {
    "name": "ipython",
    "version": 3
   },
   "file_extension": ".py",
   "mimetype": "text/x-python",
   "name": "python",
   "nbconvert_exporter": "python",
   "pygments_lexer": "ipython3",
   "version": "3.12.3"
  }
 },
 "nbformat": 4,
 "nbformat_minor": 2
}
